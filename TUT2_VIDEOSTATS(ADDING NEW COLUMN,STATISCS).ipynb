{
 "cells": [
  {
   "cell_type": "code",
   "execution_count": 1,
   "metadata": {},
   "outputs": [
    {
     "name": "stdout",
     "output_type": "stream",
     "text": [
      "Requirement already satisfied: pyspark in c:\\programdata\\anaconda\\lib\\site-packages (3.1.2)\n",
      "Requirement already satisfied: py4j==0.10.9 in c:\\programdata\\anaconda\\lib\\site-packages (from pyspark) (0.10.9)\n",
      "Note: you may need to restart the kernel to use updated packages.\n"
     ]
    }
   ],
   "source": [
    "pip install pyspark\n"
   ]
  },
  {
   "cell_type": "code",
   "execution_count": 4,
   "metadata": {},
   "outputs": [],
   "source": [
    "import findspark\n",
    "findspark.init()\n",
    "findspark.find()\n",
    "import pyspark\n",
    "from pyspark import SparkContext, SparkConf\n",
    "from pyspark.sql import SparkSession\n",
    "from pyspark.sql import functions as F\n",
    "from pyspark.sql.types import StructType, IntegerType\n",
    "from pyspark.sql.functions import col\n",
    "from pyspark.sql.functions import sum,count\n",
    "from pyspark.sql.functions import stddev_pop\n",
    "from pyspark.sql.functions import max\n",
    "from pyspark.sql.functions import mean ,corr,max, min,stddev_pop ,stddev_samp,covar_pop,covar_samp\n",
    "spark = SparkSession.builder.getOrCreate()\n",
    "sc =SparkContext.getOrCreate()"
   ]
  },
  {
   "cell_type": "code",
   "execution_count": 11,
   "metadata": {},
   "outputs": [
    {
     "name": "stdout",
     "output_type": "stream",
     "text": [
      "+-----------+-------------+--------------------+--------------------+-----------+--------------------+--------------------+-------+------+--------+-------------+--------------------+-----------------+----------------+----------------------+--------------------+\n",
      "|   video_id|trending_date|               title|       channel_title|category_id|        publish_time|                tags|  views| likes|dislikes|comment_count|      thumbnail_link|comments_disabled|ratings_disabled|video_error_or_removed|         description|\n",
      "+-----------+-------------+--------------------+--------------------+-----------+--------------------+--------------------+-------+------+--------+-------------+--------------------+-----------------+----------------+----------------------+--------------------+\n",
      "|LgVi6y5QIjM|     17.14.11|Sing zu Ende! | G...|           inscope21|         24|2017-11-13T17:08:...|\"inscope21\"|\"sing...| 252786| 35885|     230|         1539|https://i.ytimg.c...|            False|           False|                 False|Heute gibt es mal...|\n",
      "|Bayt7uQith4|     17.14.11|Kinder ferngesteu...|LUKE! Die Woche u...|         23|2017-11-12T22:30:...|\"Kinder\"|\"fernges...| 797196| 53576|     302|         1278|https://i.ytimg.c...|            False|           False|                 False|Kinder ferngesteu...|\n",
      "|1ZAPwfrtAFY|     17.14.11|The Trump Preside...|     LastWeekTonight|         24|2017-11-13T07:30:...|\"last week tonigh...|2418783| 97190|    6146|        12703|https://i.ytimg.c...|            False|           False|                 False|One year after th...|\n",
      "|AHtypnRk7JE|     17.14.11| Das Fermi-Paradoxon|   100SekundenPhysik|         27|2017-11-12T15:00:...|\"Physik\"|\"Wissens...| 380247| 31821|     458|         1955|https://i.ytimg.c...|            False|           False|                 False|►Alle Videos: htt...|\n",
      "|ZJ9We4bjcg0|     17.14.11|18 SONGS mit Kell...|                rezo|         24|2017-11-12T13:10:...|\"kelly\"|\"missesvl...| 822213|100684|    2467|        10244|https://i.ytimg.c...|            False|           False|                 False|18 Song Mashup üb...|\n",
      "|xapGFgWqtg4|     17.14.11|Geld verdienen mi...|     Die Allestester|         22|2017-11-13T01:49:...|              [none]|  32709|  3093|     296|           63|https://i.ytimg.c...|            False|           False|                 False|Wir haben Meinung...|\n",
      "|EIM7RMe39JY|     17.14.11|Kanaken auf der K...|          Bodyformus|         23|2017-11-13T11:59:...|\"kanaken\"|\"kurden...| 308683| 35704|     578|         1398|https://i.ytimg.c...|            False|           False|                 False|Video mit Planet ...|\n",
      "|PaWTaj6Iie0|     17.14.11|3 unbekannte Gesi...|          Jay & Arya|         22|2017-11-13T18:09:...|\"unbekannte gesic...| 181660| 17998|     169|          554|https://i.ytimg.c...|            False|           False|                 False|4 unbekannte Gesi...|\n",
      "|GHct2dGNLks|     17.14.11|Antoine leiht Aut...|         TeddyComedy|         23|2017-11-12T11:53:...|\"Antoine Auto\"|\"A...| 369173| 16953|     570|          611|https://i.ytimg.c...|            False|           False|                 False|Antoine hat sich ...|\n",
      "|aZYSFByDGkg|     17.14.11|Legenden: So wird...|             WALULIS|          1|2017-11-13T15:06:...|\"michael jackson\"...|  62418|  4749|      44|          425|https://i.ytimg.c...|            False|           False|                 False|Berühmt werden ka...|\n",
      "|2hu_evXPpMM|     17.14.11|Dagi Bee wird Hei...|        HerrNewstime|         24|2017-11-12T16:33:...|\"Dagi Bee\"|\"Heira...| 228574| 11349|     990|         1049|https://i.ytimg.c...|            False|           False|                 False|Dagi Bee wird Hei...|\n",
      "|2kyS6SvSYSE|     17.14.11|WE WANT TO TALK A...|        CaseyNeistat|         22|2017-11-13T17:13:...|     SHANtell martin| 748374| 57532|    2966|        15954|https://i.ytimg.c...|            False|           False|                 False|SHANTELL'S CHANNE...|\n",
      "|2Zp-Qm3wJkA|     17.14.11|JP Performance - ...|      JP Performance|          2|2017-11-13T10:30:...|\"V8\"|\"VMAX\"|\"Tops...| 465883| 19928|     216|         1240|https://i.ytimg.c...|            False|           False|                 False|Mal schauen was u...|\n",
      "|mmMPprcmJeA|     17.14.11|Diese Schlafposit...|Liebscher & Brach...|         17|2017-11-12T09:00:...|\"Liebscher\"|\"Brac...| 109571|  4357|     303|          357|https://i.ytimg.c...|            False|           False|                 False|Weitere Infos zu ...|\n",
      "|3U51cVIqulM|     17.14.11|ARAB Lifestyle | ...|         PlanetKanax|         23|2017-11-13T11:59:...|\"planetkanax\"|\"pl...|  99988|  6397|     298|          429|https://i.ytimg.c...|            False|           False|                 False|Video mit Bodyfor...|\n",
      "|OKYUtHvgMhc|     17.14.11|Die Welt in 30 Ja...|              VOLKAN|         24|2017-11-12T16:09:...|\"Welt\"|\"Natur\"|\"U...|  37877|  1839|     327|          170|https://i.ytimg.c...|            False|           False|                 False|Über die Zukunft ...|\n",
      "|spwqQDCW4TI|     17.14.11|RUNDLAUF FUßBALL ...|            Brotatos|         24|2017-11-13T14:03:...|\"fußball challeng...| 111328| 10692|     115|          548|https://i.ytimg.c...|            False|           False|                 False|Die Rundlauf Fußb...|\n",
      "|-MAgDuA3H9A|     17.14.11|Schauriger_Geist....|          Ultralativ|         27|2017-11-12T13:00:...|\"standartskill\"|\"...|  93628|  7924|     118|          308|https://i.ytimg.c...|            False|           False|                 False|Geister gibt es ü...|\n",
      "|riV8xuBqUQ0|     17.14.11|Duell der Gigante...|    InscopeLifestyle|         22|2017-11-12T16:34:...|\"inscopelifestyle...| 113961|  8891|     260|         1385|https://i.ytimg.c...|            False|           False|                 False|Ihr wolltet ein z...|\n",
      "|nNtrjfX2aGw|     17.14.11|KOCHEN mit TANZVE...|          TANZVERBOT|         26|2017-11-13T19:00:...|\"tanzverbot\"|\"Koc...| 121928| 16467|     650|         3492|https://i.ytimg.c...|            False|           False|                 False|*Salat: http://am...|\n",
      "+-----------+-------------+--------------------+--------------------+-----------+--------------------+--------------------+-------+------+--------+-------------+--------------------+-----------------+----------------+----------------------+--------------------+\n",
      "only showing top 20 rows\n",
      "\n"
     ]
    }
   ],
   "source": [
    "videoStats = spark.read.option(\"inferschema\",\"true\").option(\"header\",\"true\").csv(\"DEvideos1.csv\")\n",
    "videoStats.show()\n"
   ]
  },
  {
   "cell_type": "markdown",
   "metadata": {},
   "source": [
    "SELECTING SOME OF THE COLUMNS FROM ALL GIVEN COLUMNS"
   ]
  },
  {
   "cell_type": "code",
   "execution_count": 15,
   "metadata": {},
   "outputs": [
    {
     "name": "stdout",
     "output_type": "stream",
     "text": [
      "+-----------+-------------+--------------------+-------+\n",
      "|   video_id|trending_date|               title|  views|\n",
      "+-----------+-------------+--------------------+-------+\n",
      "|LgVi6y5QIjM|     17.14.11|Sing zu Ende! | G...| 252786|\n",
      "|Bayt7uQith4|     17.14.11|Kinder ferngesteu...| 797196|\n",
      "|1ZAPwfrtAFY|     17.14.11|The Trump Preside...|2418783|\n",
      "|AHtypnRk7JE|     17.14.11| Das Fermi-Paradoxon| 380247|\n",
      "|ZJ9We4bjcg0|     17.14.11|18 SONGS mit Kell...| 822213|\n",
      "+-----------+-------------+--------------------+-------+\n",
      "only showing top 5 rows\n",
      "\n"
     ]
    }
   ],
   "source": [
    "videoStats.createOrReplaceTempView(\"df\")\n",
    "spark.sql(\"\"\"select video_id, trending_date, title, views from df\"\"\").show(5)"
   ]
  },
  {
   "cell_type": "code",
   "execution_count": 32,
   "metadata": {},
   "outputs": [
    {
     "name": "stdout",
     "output_type": "stream",
     "text": [
      "+-----------+-------------+--------------------+-------+\n",
      "|   video_id|trending_date|               title|  views|\n",
      "+-----------+-------------+--------------------+-------+\n",
      "|LgVi6y5QIjM|     17.14.11|Sing zu Ende! | G...| 252786|\n",
      "|Bayt7uQith4|     17.14.11|Kinder ferngesteu...| 797196|\n",
      "|1ZAPwfrtAFY|     17.14.11|The Trump Preside...|2418783|\n",
      "|AHtypnRk7JE|     17.14.11| Das Fermi-Paradoxon| 380247|\n",
      "|ZJ9We4bjcg0|     17.14.11|18 SONGS mit Kell...| 822213|\n",
      "+-----------+-------------+--------------------+-------+\n",
      "only showing top 5 rows\n",
      "\n"
     ]
    }
   ],
   "source": [
    "videoStats=videoStats.select(\"video_id\", \"trending_date\", \"title\", \"views\")\n",
    "videoStats.show(5)"
   ]
  },
  {
   "cell_type": "markdown",
   "metadata": {},
   "source": [
    "ADDING A NEW COLUMN AND FETCHING DATA WITH SOME CONDITION"
   ]
  },
  {
   "cell_type": "code",
   "execution_count": 33,
   "metadata": {},
   "outputs": [
    {
     "name": "stdout",
     "output_type": "stream",
     "text": [
      "+-------+--------+\n",
      "|  views|     new|\n",
      "+-------+--------+\n",
      "| 252786| 2527.86|\n",
      "| 797196| 7971.96|\n",
      "|2418783|24187.83|\n",
      "| 380247| 3802.47|\n",
      "| 822213| 8222.13|\n",
      "+-------+--------+\n",
      "only showing top 5 rows\n",
      "\n"
     ]
    }
   ],
   "source": [
    "spark.sql(\"\"\"select views,views/100 as new from df\"\"\").show(5)"
   ]
  },
  {
   "cell_type": "code",
   "execution_count": 34,
   "metadata": {},
   "outputs": [
    {
     "name": "stdout",
     "output_type": "stream",
     "text": [
      "+-----------+-------------+--------------------+------+-------+\n",
      "|   video_id|trending_date|               title| views|    new|\n",
      "+-----------+-------------+--------------------+------+-------+\n",
      "|LgVi6y5QIjM|     17.14.11|Sing zu Ende! | G...|252786|2527.86|\n",
      "|Bayt7uQith4|     17.14.11|Kinder ferngesteu...|797196|7971.96|\n",
      "+-----------+-------------+--------------------+------+-------+\n",
      "only showing top 2 rows\n",
      "\n"
     ]
    }
   ],
   "source": [
    "videoStats.withColumn(\"new\",(col(\"views\")/100)).show(5)"
   ]
  },
  {
   "cell_type": "code",
   "execution_count": 35,
   "metadata": {},
   "outputs": [
    {
     "name": "stdout",
     "output_type": "stream",
     "text": [
      "+-----------+-------------+--------------------+-------+--------+\n",
      "|   video_id|trending_date|               title|  views|     new|\n",
      "+-----------+-------------+--------------------+-------+--------+\n",
      "|LgVi6y5QIjM|     17.14.11|Sing zu Ende! | G...| 252786| 2527.86|\n",
      "|Bayt7uQith4|     17.14.11|Kinder ferngesteu...| 797196| 7971.96|\n",
      "|1ZAPwfrtAFY|     17.14.11|The Trump Preside...|2418783|24187.83|\n",
      "|AHtypnRk7JE|     17.14.11| Das Fermi-Paradoxon| 380247| 3802.47|\n",
      "|ZJ9We4bjcg0|     17.14.11|18 SONGS mit Kell...| 822213| 8222.13|\n",
      "+-----------+-------------+--------------------+-------+--------+\n",
      "only showing top 5 rows\n",
      "\n"
     ]
    }
   ],
   "source": [
    "videoStats.select(\"*\",(col(\"views\")/100).alias(\"new\")).show(5)"
   ]
  },
  {
   "cell_type": "markdown",
   "metadata": {},
   "source": [
    "FINDING STATISTICS(MEAN,VAR,STD)"
   ]
  },
  {
   "cell_type": "code",
   "execution_count": 36,
   "metadata": {},
   "outputs": [
    {
     "name": "stdout",
     "output_type": "stream",
     "text": [
      "+---------------------------+\n",
      "|mean(CAST(views AS DOUBLE))|\n",
      "+---------------------------+\n",
      "|          603440.5435958963|\n",
      "+---------------------------+\n",
      "\n"
     ]
    }
   ],
   "source": [
    "spark.sql(\"\"\"select mean(views) from df \"\"\").show()"
   ]
  },
  {
   "cell_type": "code",
   "execution_count": 37,
   "metadata": {},
   "outputs": [
    {
     "name": "stdout",
     "output_type": "stream",
     "text": [
      "+-----------------+\n",
      "|       avg(views)|\n",
      "+-----------------+\n",
      "|603440.5435958963|\n",
      "+-----------------+\n",
      "\n"
     ]
    }
   ],
   "source": [
    "videoStats.select(mean(\"views\")).show()"
   ]
  },
  {
   "cell_type": "code",
   "execution_count": 38,
   "metadata": {},
   "outputs": [
    {
     "name": "stdout",
     "output_type": "stream",
     "text": [
      "+----------+\n",
      "|max(views)|\n",
      "+----------+\n",
      "|    999976|\n",
      "+----------+\n",
      "\n"
     ]
    }
   ],
   "source": [
    "videoStats.select(max(\"views\")).show()"
   ]
  },
  {
   "cell_type": "code",
   "execution_count": 40,
   "metadata": {},
   "outputs": [
    {
     "name": "stdout",
     "output_type": "stream",
     "text": [
      "+-----------------+\n",
      "|stddev_pop(views)|\n",
      "+-----------------+\n",
      "|2348907.150417187|\n",
      "+-----------------+\n",
      "\n"
     ]
    }
   ],
   "source": [
    "videoStats.select(stddev_pop(\"views\")).show()"
   ]
  },
  {
   "cell_type": "markdown",
   "metadata": {},
   "source": [
    "GROUPING AND AGGREGATING"
   ]
  },
  {
   "cell_type": "code",
   "execution_count": 41,
   "metadata": {},
   "outputs": [
    {
     "name": "stdout",
     "output_type": "stream",
     "text": [
      "+-----------+-------------+--------------------+-------+\n",
      "|   video_id|trending_date|               title|  views|\n",
      "+-----------+-------------+--------------------+-------+\n",
      "|LgVi6y5QIjM|     17.14.11|Sing zu Ende! | G...| 252786|\n",
      "|Bayt7uQith4|     17.14.11|Kinder ferngesteu...| 797196|\n",
      "|1ZAPwfrtAFY|     17.14.11|The Trump Preside...|2418783|\n",
      "|AHtypnRk7JE|     17.14.11| Das Fermi-Paradoxon| 380247|\n",
      "|ZJ9We4bjcg0|     17.14.11|18 SONGS mit Kell...| 822213|\n",
      "|xapGFgWqtg4|     17.14.11|Geld verdienen mi...|  32709|\n",
      "|EIM7RMe39JY|     17.14.11|Kanaken auf der K...| 308683|\n",
      "|PaWTaj6Iie0|     17.14.11|3 unbekannte Gesi...| 181660|\n",
      "|GHct2dGNLks|     17.14.11|Antoine leiht Aut...| 369173|\n",
      "|aZYSFByDGkg|     17.14.11|Legenden: So wird...|  62418|\n",
      "|2hu_evXPpMM|     17.14.11|Dagi Bee wird Hei...| 228574|\n",
      "|2kyS6SvSYSE|     17.14.11|WE WANT TO TALK A...| 748374|\n",
      "|2Zp-Qm3wJkA|     17.14.11|JP Performance - ...| 465883|\n",
      "|mmMPprcmJeA|     17.14.11|Diese Schlafposit...| 109571|\n",
      "|3U51cVIqulM|     17.14.11|ARAB Lifestyle | ...|  99988|\n",
      "|OKYUtHvgMhc|     17.14.11|Die Welt in 30 Ja...|  37877|\n",
      "|spwqQDCW4TI|     17.14.11|RUNDLAUF FUßBALL ...| 111328|\n",
      "|-MAgDuA3H9A|     17.14.11|Schauriger_Geist....|  93628|\n",
      "|riV8xuBqUQ0|     17.14.11|Duell der Gigante...| 113961|\n",
      "|nNtrjfX2aGw|     17.14.11|KOCHEN mit TANZVE...| 121928|\n",
      "+-----------+-------------+--------------------+-------+\n",
      "only showing top 20 rows\n",
      "\n"
     ]
    }
   ],
   "source": [
    "videoStats.show()"
   ]
  },
  {
   "cell_type": "code",
   "execution_count": 42,
   "metadata": {},
   "outputs": [
    {
     "name": "stdout",
     "output_type": "stream",
     "text": [
      "+--------------------+------------+\n",
      "|       trending_date|  sum(views)|\n",
      "+--------------------+------------+\n",
      "| dass sein Geld s...|        null|\n",
      "|  eine geniale Idee.|        null|\n",
      "|            18.08.05|1.64752833E8|\n",
      "|            17.20.11|1.39666442E8|\n",
      "|            17.09.12|1.73131721E8|\n",
      "| terrified them a...|        null|\n",
      "|            18.14.02| 7.7026791E7|\n",
      "|            18.20.03|1.66007556E8|\n",
      "|            18.04.05|1.28261998E8|\n",
      "|            18.21.02|1.44819597E8|\n",
      "| aber bis heute t...|        null|\n",
      "|            18.30.04|1.32520295E8|\n",
      "| dann geht der Sn...|        null|\n",
      "| plant dieser Xen...|        null|\n",
      "| dass Hannelore s...|        null|\n",
      "|    Roti  & Backen: |        null|\n",
      "|            18.06.05| 1.2446889E8|\n",
      "| ihrer Großmutter...|        null|\n",
      "|            18.11.02|1.11605612E8|\n",
      "| um Viktors Wunde...|        null|\n",
      "+--------------------+------------+\n",
      "only showing top 20 rows\n",
      "\n"
     ]
    }
   ],
   "source": [
    "videoStats.groupBy(\"trending_date\").agg(sum(\"views\")).show()"
   ]
  },
  {
   "cell_type": "code",
   "execution_count": null,
   "metadata": {},
   "outputs": [],
   "source": []
  },
  {
   "cell_type": "code",
   "execution_count": null,
   "metadata": {},
   "outputs": [],
   "source": []
  }
 ],
 "metadata": {
  "kernelspec": {
   "display_name": "Python 3",
   "language": "python",
   "name": "python3"
  },
  "language_info": {
   "codemirror_mode": {
    "name": "ipython",
    "version": 3
   },
   "file_extension": ".py",
   "mimetype": "text/x-python",
   "name": "python",
   "nbconvert_exporter": "python",
   "pygments_lexer": "ipython3",
   "version": "3.8.5"
  }
 },
 "nbformat": 4,
 "nbformat_minor": 4
}
