{
 "cells": [
  {
   "cell_type": "code",
   "execution_count": 42,
   "metadata": {},
   "outputs": [
    {
     "name": "stdout",
     "output_type": "stream",
     "text": [
      "Requirement already satisfied: pyspark in c:\\programdata\\anaconda\\lib\\site-packages (3.1.2)\n",
      "Requirement already satisfied: py4j==0.10.9 in c:\\programdata\\anaconda\\lib\\site-packages (from pyspark) (0.10.9)\n",
      "Note: you may need to restart the kernel to use updated packages.\n"
     ]
    }
   ],
   "source": [
    "pip install pyspark"
   ]
  },
  {
   "cell_type": "code",
   "execution_count": 43,
   "metadata": {},
   "outputs": [],
   "source": [
    "import findspark\n",
    "findspark.init()\n",
    "findspark.find()\n",
    "import pyspark\n",
    "import math\n",
    "\n",
    "from pyspark import SparkContext, SparkConf\n",
    "\n",
    "from pyspark.sql import SparkSession\n",
    "from pyspark.sql import functions as F\n",
    "from pyspark.sql.types import StructType, IntegerType\n",
    "from pyspark.sql.functions import col,expr\n",
    "from pyspark.sql.functions import sum,count\n",
    "from pyspark.sql.functions import stddev_pop\n",
    "from pyspark.sql.functions import max\n",
    "from pyspark.sql.functions import mean ,corr,max, min,stddev_pop ,stddev_samp,covar_pop,covar_samp,variance\n",
    "from pyspark.ml.classification import LogisticRegression\n",
    "from pyspark.ml.feature import RFormula\n",
    "spark = SparkSession.builder.getOrCreate()\n",
    "sc =SparkContext.getOrCreate()"
   ]
  },
  {
   "cell_type": "code",
   "execution_count": 44,
   "metadata": {},
   "outputs": [
    {
     "name": "stdout",
     "output_type": "stream",
     "text": [
      "+-------+-----------------------------+---------+\n",
      "|Student|% achieved in the assignments|Pass exam|\n",
      "+-------+-----------------------------+---------+\n",
      "|  Alice|                           70|      Yes|\n",
      "|    Bob|                           36|       No|\n",
      "|  Carol|                           95|      Yes|\n",
      "|    Dan|                           63|      Yes|\n",
      "|    Eve|                           43|       No|\n",
      "+-------+-----------------------------+---------+\n",
      "only showing top 5 rows\n",
      "\n"
     ]
    }
   ],
   "source": [
    "dataset = spark.read.option(\"inferschema\",\"true\").option(\"header\",\"true\").csv(\"dataset.csv\")\n",
    "dataset.show(5)"
   ]
  },
  {
   "cell_type": "code",
   "execution_count": 45,
   "metadata": {},
   "outputs": [
    {
     "name": "stdout",
     "output_type": "stream",
     "text": [
      "root\n",
      " |-- Student: string (nullable = true)\n",
      " |-- % achieved in the assignments: integer (nullable = true)\n",
      " |-- Pass exam: string (nullable = true)\n",
      "\n"
     ]
    }
   ],
   "source": [
    "dataset.printSchema()"
   ]
  },
  {
   "cell_type": "code",
   "execution_count": 46,
   "metadata": {},
   "outputs": [
    {
     "name": "stdout",
     "output_type": "stream",
     "text": [
      "+---------+----------------------------------+\n",
      "|Pass exam|avg(% achieved in the assignments)|\n",
      "+---------+----------------------------------+\n",
      "|       No|                              29.8|\n",
      "|      Yes|                 76.16666666666667|\n",
      "+---------+----------------------------------+\n",
      "\n"
     ]
    }
   ],
   "source": [
    "dataset_mean = dataset.groupBy(\"Pass exam\").agg(mean(\"% achieved in the assignments\"))\n",
    "dataset_mean.show()"
   ]
  },
  {
   "cell_type": "code",
   "execution_count": 47,
   "metadata": {},
   "outputs": [
    {
     "name": "stdout",
     "output_type": "stream",
     "text": [
      "+---------+---------------------------------------+\n",
      "|Pass exam|var_samp(% achieved in the assignments)|\n",
      "+---------+---------------------------------------+\n",
      "|       No|                     131.70000000000002|\n",
      "|      Yes|                     267.76666666666665|\n",
      "+---------+---------------------------------------+\n",
      "\n"
     ]
    }
   ],
   "source": [
    "dataset_var = dataset.groupBy(\"Pass exam\").agg(variance(\"% achieved in the assignments\"))\n",
    "dataset_var.show()"
   ]
  },
  {
   "cell_type": "code",
   "execution_count": 48,
   "metadata": {},
   "outputs": [
    {
     "name": "stdout",
     "output_type": "stream",
     "text": [
      "+-------+-----------------------------+---------+\n",
      "|Student|% achieved in the assignments|Pass exam|\n",
      "+-------+-----------------------------+---------+\n",
      "|  Alice|                           70|      Yes|\n",
      "|  Carol|                           95|      Yes|\n",
      "|    Dan|                           63|      Yes|\n",
      "|  Frank|                           84|      Yes|\n",
      "|  Grace|                           54|      Yes|\n",
      "|   Judy|                           91|      Yes|\n",
      "+-------+-----------------------------+---------+\n",
      "\n"
     ]
    }
   ],
   "source": [
    "dataset_yes = dataset.where(col(\"Pass exam\") == \"Yes\")\n",
    "dataset_yes.show()"
   ]
  },
  {
   "cell_type": "code",
   "execution_count": 49,
   "metadata": {},
   "outputs": [
    {
     "name": "stdout",
     "output_type": "stream",
     "text": [
      "+-------+-----------------------------+---------+\n",
      "|Student|% achieved in the assignments|Pass exam|\n",
      "+-------+-----------------------------+---------+\n",
      "|    Bob|                           36|       No|\n",
      "|    Eve|                           43|       No|\n",
      "|  Heidi|                           15|       No|\n",
      "|   Ivan|                           21|       No|\n",
      "|Mallory|                           34|       No|\n",
      "+-------+-----------------------------+---------+\n",
      "\n"
     ]
    }
   ],
   "source": [
    "dataset_no = dataset.where(col(\"Pass exam\") == \"No\")\n",
    "dataset_no.show()"
   ]
  },
  {
   "cell_type": "code",
   "execution_count": 50,
   "metadata": {},
   "outputs": [
    {
     "name": "stdout",
     "output_type": "stream",
     "text": [
      "11\n"
     ]
    }
   ],
   "source": [
    "n = dataset.count()\n",
    "print(n)"
   ]
  },
  {
   "cell_type": "code",
   "execution_count": 51,
   "metadata": {},
   "outputs": [
    {
     "name": "stdout",
     "output_type": "stream",
     "text": [
      "6\n",
      "5\n"
     ]
    }
   ],
   "source": [
    "n_yes = dataset_yes.count()\n",
    "print(n_yes)\n",
    "n_no = dataset_no.count()\n",
    "print(n_no)"
   ]
  },
  {
   "cell_type": "code",
   "execution_count": 52,
   "metadata": {},
   "outputs": [
    {
     "name": "stdout",
     "output_type": "stream",
     "text": [
      "0.5454545454545454\n",
      "0.45454545454545453\n"
     ]
    }
   ],
   "source": [
    "p_yes = n_yes/n\n",
    "p_no  = n_no/n\n",
    "print(p_yes)\n",
    "print(p_no)"
   ]
  },
  {
   "cell_type": "markdown",
   "metadata": {},
   "source": [
    "COLLECT IS USED TO TRANSFORM OUR SPARK CODE INTO LIST\n"
   ]
  },
  {
   "cell_type": "markdown",
   "metadata": {},
   "source": [
    "GAUSSIAN NAIVE BAYES FORMULA\n"
   ]
  },
  {
   "cell_type": "code",
   "execution_count": 53,
   "metadata": {},
   "outputs": [
    {
     "data": {
      "text/plain": [
       "[Row(Pass exam='No', var_samp(% achieved in the assignments)=131.70000000000002),\n",
       " Row(Pass exam='Yes', var_samp(% achieved in the assignments)=267.76666666666665)]"
      ]
     },
     "execution_count": 53,
     "metadata": {},
     "output_type": "execute_result"
    }
   ],
   "source": [
    "dataset.groupBy(\"Pass exam\").agg(variance(\"% achieved in the assignments\")).collect()"
   ]
  },
  {
   "cell_type": "code",
   "execution_count": 58,
   "metadata": {},
   "outputs": [
    {
     "data": {
      "text/plain": [
       "267.76666666666665"
      ]
     },
     "execution_count": 58,
     "metadata": {},
     "output_type": "execute_result"
    }
   ],
   "source": [
    "var_n = dataset.groupBy(\"Pass exam\").agg(variance(\"% achieved in the assignments\")).collect()[0][1]\n",
    "var_y = dataset.groupBy(\"Pass exam\").agg(variance(\"% achieved in the assignments\")).collect()[1][1]\n",
    "var_y"
   ]
  },
  {
   "cell_type": "code",
   "execution_count": 65,
   "metadata": {},
   "outputs": [
    {
     "data": {
      "text/plain": [
       "76.16666666666667"
      ]
     },
     "execution_count": 65,
     "metadata": {},
     "output_type": "execute_result"
    }
   ],
   "source": [
    "mean_n = dataset.groupBy(\"Pass exam\").agg(mean(\"% achieved in the assignments\")).collect()[0][1]\n",
    "mean_y = dataset.groupBy(\"Pass exam\").agg(mean(\"% achieved in the assignments\")).collect()[1][1]\n",
    "mean_y"
   ]
  },
  {
   "cell_type": "code",
   "execution_count": 66,
   "metadata": {},
   "outputs": [
    {
     "data": {
      "text/plain": [
       "0.015866793996967672"
      ]
     },
     "execution_count": 66,
     "metadata": {},
     "output_type": "execute_result"
    }
   ],
   "source": [
    "final_p_y = ((1/math.sqrt(2* math.pi*var_y))*math.exp((-0.5 * ((61 - mean_y)**2)/var_y)))\n",
    "final_p_y"
   ]
  },
  {
   "cell_type": "code",
   "execution_count": 67,
   "metadata": {},
   "outputs": [
    {
     "data": {
      "text/plain": [
       "0.0008631916482906215"
      ]
     },
     "execution_count": 67,
     "metadata": {},
     "output_type": "execute_result"
    }
   ],
   "source": [
    "final_p_n = ((1/math.sqrt(2* math.pi*var_n))*math.exp((-0.5 * ((61 - mean_n)**2)/var_n)))\n",
    "final_p_n"
   ]
  },
  {
   "cell_type": "code",
   "execution_count": null,
   "metadata": {},
   "outputs": [],
   "source": []
  },
  {
   "cell_type": "code",
   "execution_count": null,
   "metadata": {},
   "outputs": [],
   "source": []
  }
 ],
 "metadata": {
  "kernelspec": {
   "display_name": "Python 3",
   "language": "python",
   "name": "python3"
  },
  "language_info": {
   "codemirror_mode": {
    "name": "ipython",
    "version": 3
   },
   "file_extension": ".py",
   "mimetype": "text/x-python",
   "name": "python",
   "nbconvert_exporter": "python",
   "pygments_lexer": "ipython3",
   "version": "3.8.5"
  }
 },
 "nbformat": 4,
 "nbformat_minor": 4
}
