{
 "cells": [
  {
   "cell_type": "code",
   "execution_count": 51,
   "metadata": {},
   "outputs": [
    {
     "name": "stdout",
     "output_type": "stream",
     "text": [
      "Requirement already satisfied: pyspark in c:\\programdata\\anaconda\\lib\\site-packages (3.1.2)Note: you may need to restart the kernel to use updated packages.\n",
      "Requirement already satisfied: py4j==0.10.9 in c:\\programdata\\anaconda\\lib\\site-packages (from pyspark) (0.10.9)\n",
      "\n"
     ]
    }
   ],
   "source": [
    "pip install pyspark"
   ]
  },
  {
   "cell_type": "code",
   "execution_count": 52,
   "metadata": {},
   "outputs": [],
   "source": [
    "import findspark\n",
    "findspark.init()\n",
    "findspark.find()\n",
    "import pyspark\n",
    "import math\n",
    "\n",
    "from pyspark import SparkContext, SparkConf\n",
    "\n",
    "from pyspark.sql import SparkSession\n",
    "from pyspark.sql import functions as f\n",
    "from pyspark.sql.functions import *\n",
    "from pyspark.sql.types import StructType,StructField,StringType, IntegerType\n",
    "from pyspark.sql.functions import col,expr\n",
    "from pyspark.sql.functions import sum,count\n",
    "from pyspark.sql.functions import stddev_pop\n",
    "from pyspark.sql.functions import max\n",
    "from pyspark.sql.functions import mean ,corr,max, min,stddev_pop ,stddev_samp,covar_pop,covar_samp,variance\n",
    "from pyspark.ml.classification import LogisticRegression\n",
    "from pyspark.ml.feature import RFormula\n",
    "spark = SparkSession.builder.getOrCreate()\n",
    "sc =SparkContext.getOrCreate()"
   ]
  },
  {
   "cell_type": "code",
   "execution_count": 71,
   "metadata": {},
   "outputs": [],
   "source": [
    "order_items = [(\"red\",\"sour\",\"yes\"),\n",
    "              (\"red\",\"sour\",\"no\"),\n",
    "              (\"red\",\"bitter\",\"no\"),\n",
    "              (\"yellow\",\"sweet\",\"yes\"),\n",
    "              (\"yellow\",\"bitter\",\"no\"),\n",
    "              (\"green\",\"sour\",\"yes\"),\n",
    "              (\"green\",\"sweet\",\"yes\"),\n",
    "              (\"green\",\"bitter\",\"no\")]"
   ]
  },
  {
   "cell_type": "code",
   "execution_count": 72,
   "metadata": {},
   "outputs": [],
   "source": [
    "schema = StructType([\n",
    "        StructField(\"Pulpcolor\",StringType(),True),\n",
    "        StructField(\"Taste\",StringType(),True),\n",
    "        StructField(\"edible\",StringType(),True)\n",
    "       ])"
   ]
  },
  {
   "cell_type": "code",
   "execution_count": 73,
   "metadata": {},
   "outputs": [
    {
     "name": "stdout",
     "output_type": "stream",
     "text": [
      "+---------+------+------+\n",
      "|Pulpcolor| Taste|edible|\n",
      "+---------+------+------+\n",
      "|      red|  sour|   yes|\n",
      "|      red|  sour|    no|\n",
      "|      red|bitter|    no|\n",
      "|   yellow| sweet|   yes|\n",
      "|   yellow|bitter|    no|\n",
      "|    green|  sour|   yes|\n",
      "|    green| sweet|   yes|\n",
      "|    green|bitter|    no|\n",
      "+---------+------+------+\n",
      "\n"
     ]
    }
   ],
   "source": [
    "df = spark.createDataFrame(data = order_items,schema = schema)\n",
    "df.show()"
   ]
  },
  {
   "cell_type": "code",
   "execution_count": 74,
   "metadata": {},
   "outputs": [
    {
     "name": "stdout",
     "output_type": "stream",
     "text": [
      "+---------+-----+------+\n",
      "|Pulpcolor|Taste|edible|\n",
      "+---------+-----+------+\n",
      "|      red| sour|   yes|\n",
      "|   yellow|sweet|   yes|\n",
      "|    green| sour|   yes|\n",
      "|    green|sweet|   yes|\n",
      "+---------+-----+------+\n",
      "\n"
     ]
    }
   ],
   "source": [
    "dataSize = df.count()\n",
    "yesDf = df.filter(f.expr(\"edible = \\\"yes\\\"\"))\n",
    "yesDf.show()"
   ]
  },
  {
   "cell_type": "code",
   "execution_count": 77,
   "metadata": {},
   "outputs": [],
   "source": [
    "yes = yesDf.count()\n",
    "yesYellow = yesDf.filter(f.expr(\"PulpColor = \\\"yellow\\\"\")).count()\n",
    "yesSour = yesDf.filter(f.expr(\"Taste = \\\"sour\\\"\")).count()\n",
    "\n"
   ]
  },
  {
   "cell_type": "code",
   "execution_count": 78,
   "metadata": {},
   "outputs": [
    {
     "data": {
      "text/plain": [
       "0.0625"
      ]
     },
     "execution_count": 78,
     "metadata": {},
     "output_type": "execute_result"
    }
   ],
   "source": [
    "likelihoodYes = (yes/dataSize) * yesYellow/yes * yesSour/yes\n",
    "likelihoodYes"
   ]
  },
  {
   "cell_type": "code",
   "execution_count": 79,
   "metadata": {},
   "outputs": [],
   "source": [
    "noDf = df.filter(f.expr(\"edible = \\\"no\\\"\"))\n",
    "no = noDf.count()\n",
    "noYellow = noDf.filter(f.expr(\"PulpColor = \\\"yellow\\\"\")).count()\n",
    "noSour = noDf.filter(f.expr(\"Taste = \\\"sour\\\"\")).count()\n",
    "likelihoodNo = (no/dataSize) * noYellow/no * noSour/no"
   ]
  },
  {
   "cell_type": "code",
   "execution_count": 80,
   "metadata": {},
   "outputs": [
    {
     "data": {
      "text/plain": [
       "0.03125"
      ]
     },
     "execution_count": 80,
     "metadata": {},
     "output_type": "execute_result"
    }
   ],
   "source": [
    "likelihoodNo"
   ]
  },
  {
   "cell_type": "code",
   "execution_count": 81,
   "metadata": {},
   "outputs": [
    {
     "name": "stdout",
     "output_type": "stream",
     "text": [
      "Yes\n"
     ]
    }
   ],
   "source": [
    "if likelihoodYes >likelihoodNo:\n",
    "    print(\"Yes\")\n",
    "else:\n",
    "    print(\"No\")"
   ]
  },
  {
   "cell_type": "code",
   "execution_count": null,
   "metadata": {},
   "outputs": [],
   "source": []
  },
  {
   "cell_type": "code",
   "execution_count": null,
   "metadata": {},
   "outputs": [],
   "source": []
  },
  {
   "cell_type": "code",
   "execution_count": null,
   "metadata": {},
   "outputs": [],
   "source": []
  }
 ],
 "metadata": {
  "kernelspec": {
   "display_name": "Python 3",
   "language": "python",
   "name": "python3"
  },
  "language_info": {
   "codemirror_mode": {
    "name": "ipython",
    "version": 3
   },
   "file_extension": ".py",
   "mimetype": "text/x-python",
   "name": "python",
   "nbconvert_exporter": "python",
   "pygments_lexer": "ipython3",
   "version": "3.8.5"
  }
 },
 "nbformat": 4,
 "nbformat_minor": 4
}
