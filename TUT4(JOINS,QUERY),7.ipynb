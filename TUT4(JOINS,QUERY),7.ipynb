{
 "cells": [
  {
   "cell_type": "code",
   "execution_count": 2,
   "metadata": {},
   "outputs": [],
   "source": [
    "import findspark\n",
    "findspark.init()\n",
    "findspark.find()\n",
    "import pyspark\n",
    "from pyspark.sql.functions import *\n",
    "from pyspark import SparkContext, SparkConf\n",
    "from pyspark.sql import SparkSession\n",
    "from pyspark.sql import functions as f\n",
    "from pyspark.sql.types import StructType, IntegerType\n",
    "from pyspark.sql.functions import col\n",
    "from pyspark.sql.functions import sum,count\n",
    "from pyspark.sql.functions import stddev_pop\n",
    "from pyspark.sql.functions import max\n",
    "from pyspark.sql.functions import mean ,corr,max, min,stddev_pop ,stddev_samp,covar_pop,covar_samp\n",
    "spark = SparkSession.builder.getOrCreate()\n",
    "sc =SparkContext.getOrCreate()"
   ]
  },
  {
   "cell_type": "markdown",
   "metadata": {},
   "source": [
    "CREATING NEW EMPLOYEE TABLE"
   ]
  },
  {
   "cell_type": "code",
   "execution_count": 3,
   "metadata": {},
   "outputs": [],
   "source": [
    "from pyspark.sql.types import StructType,StructField,StringType,IntegerType\n",
    "employees_data = [(1,\"James\",\"Smith\",\"smith@gmail.com\",\"67867567\",\"\",\"1\",\"Developer\"),\n",
    "                 (2,\"Michael\",\"Rose\",\"Rose@gmail.com\",\"65768789\",\"\",\"2\",\"Designer\"),\n",
    "                 (3,\"Robert\",\"Williams\",\"Robert@gmail.com\",\"787678\",\"\",\"3\",\"Editor\"),\n",
    "                 (4,\"Maria\",\"Brown\",\"Brown@gmail.com\",\"65767812\",\"\",\"4\",\"Manager\")]"
   ]
  },
  {
   "cell_type": "code",
   "execution_count": 4,
   "metadata": {},
   "outputs": [],
   "source": [
    "schema = StructType([\n",
    "    StructField(\"employee_id\",IntegerType(),True),\n",
    "    StructField(\"firstname\",StringType(),True),\n",
    "    StructField(\"lastename\",StringType(),True),\n",
    "    StructField(\"email\",StringType(),True),\n",
    "    StructField(\"phone\",StringType(),True),\n",
    "    StructField(\"hiredate\",StringType(),True),\n",
    "    StructField(\"manager_id\",StringType(),True),\n",
    "    StructField(\"job_title\",StringType(),True),\n",
    "])"
   ]
  },
  {
   "cell_type": "code",
   "execution_count": 5,
   "metadata": {},
   "outputs": [],
   "source": [
    "employees = spark.createDataFrame(data = employees_data,schema = schema)"
   ]
  },
  {
   "cell_type": "code",
   "execution_count": 6,
   "metadata": {},
   "outputs": [
    {
     "name": "stdout",
     "output_type": "stream",
     "text": [
      "root\n",
      " |-- employee_id: integer (nullable = true)\n",
      " |-- firstname: string (nullable = true)\n",
      " |-- lastename: string (nullable = true)\n",
      " |-- email: string (nullable = true)\n",
      " |-- phone: string (nullable = true)\n",
      " |-- hiredate: string (nullable = true)\n",
      " |-- manager_id: string (nullable = true)\n",
      " |-- job_title: string (nullable = true)\n",
      "\n",
      "+-----------+---------+---------+----------------+--------+--------+----------+---------+\n",
      "|employee_id|firstname|lastename|email           |phone   |hiredate|manager_id|job_title|\n",
      "+-----------+---------+---------+----------------+--------+--------+----------+---------+\n",
      "|1          |James    |Smith    |smith@gmail.com |67867567|        |1         |Developer|\n",
      "|2          |Michael  |Rose     |Rose@gmail.com  |65768789|        |2         |Designer |\n",
      "|3          |Robert   |Williams |Robert@gmail.com|787678  |        |3         |Editor   |\n",
      "|4          |Maria    |Brown    |Brown@gmail.com |65767812|        |4         |Manager  |\n",
      "+-----------+---------+---------+----------------+--------+--------+----------+---------+\n",
      "\n"
     ]
    }
   ],
   "source": [
    "employees.printSchema()\n",
    "employees.show(truncate=False)"
   ]
  },
  {
   "cell_type": "code",
   "execution_count": 7,
   "metadata": {},
   "outputs": [],
   "source": [
    "Order_data = [(1,8,\"in progress\",2,\"2021\"),\n",
    "             (2,9,\"pending\",3,\"2021\"),\n",
    "             (3,11,\"arrived\",2,\"2021\"),\n",
    "             (4,12,\"pending\",5,\"2021\"),\n",
    "             ]"
   ]
  },
  {
   "cell_type": "code",
   "execution_count": 8,
   "metadata": {},
   "outputs": [],
   "source": [
    "schema = StructType([\n",
    "    StructField(\"order_id\",IntegerType(),True),\n",
    "    StructField(\"customer_id\",StringType(),True),\n",
    "    StructField(\"status\",StringType(),True),\n",
    "    StructField(\"salesman_id\",IntegerType(),True),\n",
    "    StructField(\"order_date\",StringType(),True),\n",
    "    \n",
    "])"
   ]
  },
  {
   "cell_type": "code",
   "execution_count": 9,
   "metadata": {},
   "outputs": [
    {
     "name": "stdout",
     "output_type": "stream",
     "text": [
      "root\n",
      " |-- order_id: integer (nullable = true)\n",
      " |-- customer_id: string (nullable = true)\n",
      " |-- status: string (nullable = true)\n",
      " |-- salesman_id: integer (nullable = true)\n",
      " |-- order_date: string (nullable = true)\n",
      "\n",
      "+--------+-----------+-----------+-----------+----------+\n",
      "|order_id|customer_id|status     |salesman_id|order_date|\n",
      "+--------+-----------+-----------+-----------+----------+\n",
      "|1       |8          |in progress|2          |2021      |\n",
      "|2       |9          |pending    |3          |2021      |\n",
      "|3       |11         |arrived    |2          |2021      |\n",
      "|4       |12         |pending    |5          |2021      |\n",
      "+--------+-----------+-----------+-----------+----------+\n",
      "\n"
     ]
    }
   ],
   "source": [
    "orders=spark.createDataFrame(data = Order_data,schema=schema)\n",
    "orders.printSchema()\n",
    "orders.show(truncate = False)"
   ]
  },
  {
   "cell_type": "code",
   "execution_count": 10,
   "metadata": {},
   "outputs": [],
   "source": [
    "Order1_data = [(1,8,\"in progress\",2,\"2021\"),\n",
    "             (2,9,\"pending\",3,\"2021\"),\n",
    "             (3,11,\"arrived\",2,\"2021\"),\n",
    "             (4,12,\"pending\",5,\"2021\"),\n",
    "             ]"
   ]
  },
  {
   "cell_type": "code",
   "execution_count": 11,
   "metadata": {},
   "outputs": [],
   "source": [
    "schema = StructType([\n",
    "    StructField(\"employee_id\",IntegerType(),True),\n",
    "    StructField(\"customer_id\",StringType(),True),\n",
    "    StructField(\"status\",StringType(),True),\n",
    "    StructField(\"salesman_id\",IntegerType(),True),\n",
    "    StructField(\"order_date\",StringType(),True),\n",
    "    \n",
    "])"
   ]
  },
  {
   "cell_type": "code",
   "execution_count": 12,
   "metadata": {},
   "outputs": [
    {
     "name": "stdout",
     "output_type": "stream",
     "text": [
      "root\n",
      " |-- employee_id: integer (nullable = true)\n",
      " |-- customer_id: string (nullable = true)\n",
      " |-- status: string (nullable = true)\n",
      " |-- salesman_id: integer (nullable = true)\n",
      " |-- order_date: string (nullable = true)\n",
      "\n",
      "+-----------+-----------+-----------+-----------+----------+\n",
      "|employee_id|customer_id|status     |salesman_id|order_date|\n",
      "+-----------+-----------+-----------+-----------+----------+\n",
      "|1          |8          |in progress|2          |2021      |\n",
      "|2          |9          |pending    |3          |2021      |\n",
      "|3          |11         |arrived    |2          |2021      |\n",
      "|4          |12         |pending    |5          |2021      |\n",
      "+-----------+-----------+-----------+-----------+----------+\n",
      "\n"
     ]
    }
   ],
   "source": [
    "order1=spark.createDataFrame(data = Order_data,schema=schema)\n",
    "order1.printSchema()\n",
    "order1.show(truncate = False)"
   ]
  },
  {
   "cell_type": "markdown",
   "metadata": {},
   "source": [
    "Which employees could convince customers to order products?"
   ]
  },
  {
   "cell_type": "markdown",
   "metadata": {},
   "source": [
    "LEFT SEMI JOIN"
   ]
  },
  {
   "cell_type": "code",
   "execution_count": 13,
   "metadata": {},
   "outputs": [
    {
     "name": "stdout",
     "output_type": "stream",
     "text": [
      "+-----------+---------+---------+----------------+--------+--------+----------+---------+\n",
      "|employee_id|firstname|lastename|           email|   phone|hiredate|manager_id|job_title|\n",
      "+-----------+---------+---------+----------------+--------+--------+----------+---------+\n",
      "|          3|   Robert| Williams|Robert@gmail.com|  787678|        |         3|   Editor|\n",
      "|          2|  Michael|     Rose|  Rose@gmail.com|65768789|        |         2| Designer|\n",
      "+-----------+---------+---------+----------------+--------+--------+----------+---------+\n",
      "\n"
     ]
    }
   ],
   "source": [
    "salesman = employees.join(orders, f.expr(\"employee_id == salesman_id\"),\"left_semi\")\n",
    "salesman.show()"
   ]
  },
  {
   "cell_type": "code",
   "execution_count": 14,
   "metadata": {},
   "outputs": [],
   "source": [
    "employees.createOrReplaceTempView(\"employees\")\n",
    "orders.createOrReplaceTempView(\"orders\")"
   ]
  },
  {
   "cell_type": "code",
   "execution_count": 15,
   "metadata": {},
   "outputs": [
    {
     "name": "stdout",
     "output_type": "stream",
     "text": [
      "+-----------+---------+---------+----------------+--------+--------+----------+---------+\n",
      "|employee_id|firstname|lastename|           email|   phone|hiredate|manager_id|job_title|\n",
      "+-----------+---------+---------+----------------+--------+--------+----------+---------+\n",
      "|          3|   Robert| Williams|Robert@gmail.com|  787678|        |         3|   Editor|\n",
      "|          2|  Michael|     Rose|  Rose@gmail.com|65768789|        |         2| Designer|\n",
      "+-----------+---------+---------+----------------+--------+--------+----------+---------+\n",
      "\n"
     ]
    }
   ],
   "source": [
    "spark.sql(\"select * from employees e left semi join orders o on e.employee_id = o.salesman_id \").show()"
   ]
  },
  {
   "cell_type": "code",
   "execution_count": 16,
   "metadata": {},
   "outputs": [
    {
     "name": "stdout",
     "output_type": "stream",
     "text": [
      "+-----------+-----+\n",
      "|employee_id|sales|\n",
      "+-----------+-----+\n",
      "|          3|    1|\n",
      "|          2|    2|\n",
      "+-----------+-----+\n",
      "\n"
     ]
    }
   ],
   "source": [
    "spark.sql(\"select employee_id,count(salesman_id) as sales from employees e inner join orders o on employee_id = salesman_id group by e.employee_id\").show()"
   ]
  },
  {
   "cell_type": "code",
   "execution_count": 17,
   "metadata": {},
   "outputs": [],
   "source": [
    "sale = employees.join(orders,f.expr(\"employee_id == salesman_id\"),\"inner\").groupBy(\"employee_id\").agg(count(\"*\").alias(\"sales\")).orderBy(\"sales\",ascending = False)\n"
   ]
  },
  {
   "cell_type": "code",
   "execution_count": 18,
   "metadata": {},
   "outputs": [
    {
     "name": "stdout",
     "output_type": "stream",
     "text": [
      "+-----------+-----+\n",
      "|employee_id|sales|\n",
      "+-----------+-----+\n",
      "|          2|    2|\n",
      "|          3|    1|\n",
      "+-----------+-----+\n",
      "\n"
     ]
    }
   ],
   "source": [
    "sale.show()"
   ]
  },
  {
   "cell_type": "markdown",
   "metadata": {},
   "source": [
    "NATURAL JOIN---------"
   ]
  },
  {
   "cell_type": "code",
   "execution_count": 19,
   "metadata": {},
   "outputs": [
    {
     "name": "stdout",
     "output_type": "stream",
     "text": [
      "+-----------+---------+---------+----------------+--------+--------+----------+---------+-----------+-----------+-----------+----------+\n",
      "|employee_id|firstname|lastename|           email|   phone|hiredate|manager_id|job_title|customer_id|     status|salesman_id|order_date|\n",
      "+-----------+---------+---------+----------------+--------+--------+----------+---------+-----------+-----------+-----------+----------+\n",
      "|          1|    James|    Smith| smith@gmail.com|67867567|        |         1|Developer|          8|in progress|          2|      2021|\n",
      "|          3|   Robert| Williams|Robert@gmail.com|  787678|        |         3|   Editor|         11|    arrived|          2|      2021|\n",
      "|          4|    Maria|    Brown| Brown@gmail.com|65767812|        |         4|  Manager|         12|    pending|          5|      2021|\n",
      "|          2|  Michael|     Rose|  Rose@gmail.com|65768789|        |         2| Designer|          9|    pending|          3|      2021|\n",
      "+-----------+---------+---------+----------------+--------+--------+----------+---------+-----------+-----------+-----------+----------+\n",
      "\n"
     ]
    }
   ],
   "source": [
    "natural_join = employees.join(order1,[\"employee_id\"])\n",
    "natural_join.show()"
   ]
  },
  {
   "cell_type": "markdown",
   "metadata": {},
   "source": [
    "INNER JOIN EXAMPLE WITH SYNTEX"
   ]
  },
  {
   "cell_type": "code",
   "execution_count": 20,
   "metadata": {},
   "outputs": [
    {
     "name": "stdout",
     "output_type": "stream",
     "text": [
      "+-----------+---------+---------+----------------+--------+--------+----------+---------+--------+-----------+-----------+-----------+----------+\n",
      "|employee_id|firstname|lastename|           email|   phone|hiredate|manager_id|job_title|order_id|customer_id|     status|salesman_id|order_date|\n",
      "+-----------+---------+---------+----------------+--------+--------+----------+---------+--------+-----------+-----------+-----------+----------+\n",
      "|          3|   Robert| Williams|Robert@gmail.com|  787678|        |         3|   Editor|       2|          9|    pending|          3|      2021|\n",
      "|          2|  Michael|     Rose|  Rose@gmail.com|65768789|        |         2| Designer|       1|          8|in progress|          2|      2021|\n",
      "|          2|  Michael|     Rose|  Rose@gmail.com|65768789|        |         2| Designer|       3|         11|    arrived|          2|      2021|\n",
      "+-----------+---------+---------+----------------+--------+--------+----------+---------+--------+-----------+-----------+-----------+----------+\n",
      "\n"
     ]
    }
   ],
   "source": [
    "#inner_join = table1.join(table2,join_specification,join_type)\n",
    "inner_join = employees.join(orders,(employees[\"employee_id\"] == orders[\"salesman_id\"]),\"inner\")\n",
    "inner_join.show()"
   ]
  },
  {
   "cell_type": "markdown",
   "metadata": {},
   "source": [
    "CROSS_JOIN"
   ]
  },
  {
   "cell_type": "code",
   "execution_count": 21,
   "metadata": {},
   "outputs": [
    {
     "name": "stdout",
     "output_type": "stream",
     "text": [
      "+-----------+---------+---------+----------------+--------+--------+----------+---------+--------+-----------+-----------+-----------+----------+\n",
      "|employee_id|firstname|lastename|           email|   phone|hiredate|manager_id|job_title|order_id|customer_id|     status|salesman_id|order_date|\n",
      "+-----------+---------+---------+----------------+--------+--------+----------+---------+--------+-----------+-----------+-----------+----------+\n",
      "|          1|    James|    Smith| smith@gmail.com|67867567|        |         1|Developer|       1|          8|in progress|          2|      2021|\n",
      "|          1|    James|    Smith| smith@gmail.com|67867567|        |         1|Developer|       2|          9|    pending|          3|      2021|\n",
      "|          1|    James|    Smith| smith@gmail.com|67867567|        |         1|Developer|       3|         11|    arrived|          2|      2021|\n",
      "|          1|    James|    Smith| smith@gmail.com|67867567|        |         1|Developer|       4|         12|    pending|          5|      2021|\n",
      "|          2|  Michael|     Rose|  Rose@gmail.com|65768789|        |         2| Designer|       1|          8|in progress|          2|      2021|\n",
      "|          2|  Michael|     Rose|  Rose@gmail.com|65768789|        |         2| Designer|       2|          9|    pending|          3|      2021|\n",
      "|          2|  Michael|     Rose|  Rose@gmail.com|65768789|        |         2| Designer|       3|         11|    arrived|          2|      2021|\n",
      "|          2|  Michael|     Rose|  Rose@gmail.com|65768789|        |         2| Designer|       4|         12|    pending|          5|      2021|\n",
      "|          3|   Robert| Williams|Robert@gmail.com|  787678|        |         3|   Editor|       1|          8|in progress|          2|      2021|\n",
      "|          3|   Robert| Williams|Robert@gmail.com|  787678|        |         3|   Editor|       2|          9|    pending|          3|      2021|\n",
      "|          3|   Robert| Williams|Robert@gmail.com|  787678|        |         3|   Editor|       3|         11|    arrived|          2|      2021|\n",
      "|          3|   Robert| Williams|Robert@gmail.com|  787678|        |         3|   Editor|       4|         12|    pending|          5|      2021|\n",
      "|          4|    Maria|    Brown| Brown@gmail.com|65767812|        |         4|  Manager|       1|          8|in progress|          2|      2021|\n",
      "|          4|    Maria|    Brown| Brown@gmail.com|65767812|        |         4|  Manager|       2|          9|    pending|          3|      2021|\n",
      "|          4|    Maria|    Brown| Brown@gmail.com|65767812|        |         4|  Manager|       3|         11|    arrived|          2|      2021|\n",
      "|          4|    Maria|    Brown| Brown@gmail.com|65767812|        |         4|  Manager|       4|         12|    pending|          5|      2021|\n",
      "+-----------+---------+---------+----------------+--------+--------+----------+---------+--------+-----------+-----------+-----------+----------+\n",
      "\n"
     ]
    }
   ],
   "source": [
    "cross_join = employees.crossJoin(orders)\n",
    "cross_join.show()"
   ]
  },
  {
   "cell_type": "markdown",
   "metadata": {},
   "source": [
    "Use the RDD API to identify how many orders each customer is waiting for (this means, status = \"Pending\"). \n",
    "The customers are identified only by customer id. Sort the resulting RDD by the number of pending orders in descending order. \n",
    "The variable orders is a reference to the DataFrame Orders.\n",
    "\n",
    " "
   ]
  },
  {
   "cell_type": "code",
   "execution_count": 32,
   "metadata": {},
   "outputs": [
    {
     "data": {
      "text/plain": [
       "[('12', 1), ('9', 1)]"
      ]
     },
     "execution_count": 32,
     "metadata": {},
     "output_type": "execute_result"
    }
   ],
   "source": [
    "orders.rdd.filter(lambda x:x[\"status\"]==\"pending\").map(lambda x:(x[\"customer_id\"],1)).reduceByKey(lambda x,y : x+y).sortBy(lambda x:x[1],ascending=False).collect()"
   ]
  },
  {
   "cell_type": "code",
   "execution_count": null,
   "metadata": {},
   "outputs": [],
   "source": []
  },
  {
   "cell_type": "code",
   "execution_count": null,
   "metadata": {},
   "outputs": [],
   "source": []
  }
 ],
 "metadata": {
  "kernelspec": {
   "display_name": "Python 3",
   "language": "python",
   "name": "python3"
  },
  "language_info": {
   "codemirror_mode": {
    "name": "ipython",
    "version": 3
   },
   "file_extension": ".py",
   "mimetype": "text/x-python",
   "name": "python",
   "nbconvert_exporter": "python",
   "pygments_lexer": "ipython3",
   "version": "3.8.5"
  }
 },
 "nbformat": 4,
 "nbformat_minor": 4
}
